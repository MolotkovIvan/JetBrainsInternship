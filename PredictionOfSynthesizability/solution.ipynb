{
 "cells": [
  {
   "cell_type": "markdown",
   "metadata": {
    "ExecuteTime": {
     "end_time": "2018-01-15T19:20:12.319249Z",
     "start_time": "2018-01-15T19:20:12.314813Z"
    }
   },
   "source": [
    "## Load libraries"
   ]
  },
  {
   "cell_type": "code",
   "execution_count": null,
   "metadata": {
    "ExecuteTime": {
     "end_time": "2018-01-16T09:14:32.188276Z",
     "start_time": "2018-01-16T09:14:32.171118Z"
    }
   },
   "outputs": [],
   "source": [
    "# tensorflow backend\n",
    "from os import environ\n",
    "environ['KERAS_BACKEND'] = 'tensorflow'\n",
    "# vae stuff\n",
    "from chemical_vae.chemvae.vae_utils import VAEUtils\n",
    "from chemical_vae.chemvae import mol_utils as mu\n",
    "# import scientific py\n",
    "import numpy as np\n",
    "import pandas as pd\n",
    "# rdkit stuff\n",
    "from rdkit.Chem import AllChem as Chem\n",
    "from rdkit.Chem import PandasTools\n",
    "# plotting stuff\n",
    "import matplotlib.pyplot as plt\n",
    "import matplotlib as mpl\n",
    "from IPython.display import SVG, display\n",
    "%config InlineBackend.figure_format = 'retina'\n",
    "%matplotlib inline"
   ]
  },
  {
   "cell_type": "markdown",
   "metadata": {},
   "source": [
    "## Load a model"
   ]
  },
  {
   "cell_type": "code",
   "execution_count": null,
   "metadata": {
    "ExecuteTime": {
     "end_time": "2018-01-16T09:12:15.415983Z",
     "start_time": "2018-01-16T09:11:45.835109Z"
    },
    "scrolled": false
   },
   "outputs": [],
   "source": [
    "vae = VAEUtils(directory='chemical_vae/models/zinc_properties')"
   ]
  },
  {
   "cell_type": "markdown",
   "metadata": {},
   "source": [
    "## Decode/Encode \n",
    "\n",
    "Might not be perfect (it's probabilistic). Try several times if needed.\n",
    "\n",
    "smiles <i class=\"fa fa-arrow-right\" aria-hidden=\"true\"></i> x <i class=\"fa fa-arrow-right\" aria-hidden=\"true\"></i> z <i class=\"fa fa-arrow-right\" aria-hidden=\"true\"></i> x_r <i class=\"fa fa-arrow-right\" aria-hidden=\"true\"></i> smiles_r"
   ]
  },
  {
   "cell_type": "code",
   "execution_count": 11,
   "metadata": {
    "ExecuteTime": {
     "end_time": "2018-01-16T09:12:15.606522Z",
     "start_time": "2018-01-16T09:12:15.417928Z"
    }
   },
   "outputs": [
    {
     "name": "stdout",
     "output_type": "stream",
     "text": [
      "Input 1              : Cc1ccc(S2(=O)=NC(=O)Nc3ccccc32)cc1\n",
      "Input 2              : CN(Cc1ccc2c(c1)C(=O)CC2)C(=O)OC(C)(C)C\n",
      "Input 3              : COC(=O)C1CCC(Oc2ccc(NC(=O)C(=O)NN)cn2)CC1\n",
      "Reconstruction 1     : Cc1ccc(-](N)C(NC(=O)Nc3ccccc32)cc1\n",
      "Reconstruction 2     : CN(C)cccc2c(c1)C(=O)CC2)C(=O)OC(C)(C)C\n",
      "Reconstruction 3     : COC(=O)C1CCC(Oc2ccc(NC(=O)C(=O)NN)cn2)CC1\n",
      "Z representation 1   : (1, 196) with norm 10.296\n",
      "Z representation 2   : (1, 196) with norm 13.437\n",
      "Z representation 3   : (1, 196) with norm 13.102\n"
     ]
    }
   ],
   "source": [
    "smiles_1 = mu.canon_smiles('Cc1ccc(S2(=O)=NC(=O)Nc3ccccc32)cc1')\n",
    "smiles_2 = mu.canon_smiles('CN(Cc1ccc2c(c1)C(=O)CC2)C(=O)OC(C)(C)C')\n",
    "smiles_3 = mu.canon_smiles('COC(=O)C1CCC(Oc2ccc(NC(=O)C(=O)NN)cn2)CC1')\n",
    "\n",
    "x1 = vae.smiles_to_hot(smiles_1,canonize_smiles=True)\n",
    "x2 = vae.smiles_to_hot(smiles_2,canonize_smiles=True)\n",
    "x3 = vae.smiles_to_hot(smiles_3,canonize_smiles=True)\n",
    "\n",
    "z1 = vae.encode(x1)\n",
    "z2 = vae.encode(x2)\n",
    "z3 = vae.encode(x3)\n",
    "\n",
    "x1_r= vae.decode(z1)\n",
    "x2_r= vae.decode(z2)\n",
    "x3_r= vae.decode(z3)\n",
    "\n",
    "print('{:20s} : {}'.format('Input 1',smiles_1))\n",
    "print('{:20s} : {}'.format('Input 2',smiles_2))\n",
    "print('{:20s} : {}'.format('Input 3',smiles_3))\n",
    "\n",
    "print('{:20s} : {}'.format('Reconstruction 1',vae.hot_to_smiles(x1_r,strip=True)[0]))\n",
    "print('{:20s} : {}'.format('Reconstruction 2',vae.hot_to_smiles(x2_r,strip=True)[0]))\n",
    "print('{:20s} : {}'.format('Reconstruction 3',vae.hot_to_smiles(x3_r,strip=True)[0]))\n",
    "\n",
    "print('{:20s} : {} with norm {:.3f}'.format('Z representation 1',z1.shape, np.linalg.norm(z1)))\n",
    "print('{:20s} : {} with norm {:.3f}'.format('Z representation 2',z2.shape, np.linalg.norm(z2)))\n",
    "print('{:20s} : {} with norm {:.3f}'.format('Z representation 3',z3.shape, np.linalg.norm(z3)))"
   ]
  },
  {
   "cell_type": "markdown",
   "metadata": {},
   "source": [
    "## Property prediction"
   ]
  },
  {
   "cell_type": "markdown",
   "metadata": {},
   "source": [
    "Now we predict Quantitative Estimation of Drug-likeness (QED), the synthetic accessibility score (SAS), and the water–octanol partition coefficient (logP)"
   ]
  },
  {
   "cell_type": "code",
   "execution_count": 15,
   "metadata": {
    "ExecuteTime": {
     "end_time": "2018-01-16T09:13:28.233280Z",
     "start_time": "2018-01-16T09:13:28.178784Z"
    }
   },
   "outputs": [
    {
     "name": "stdout",
     "output_type": "stream",
     "text": [
      "Chemical structure                                   Properties [qed,SAS,logP]\n",
      "Cc1ccc(S2(=O)=NC(=O)Nc3ccccc32)cc1                 : [0.72313255 2.4103725  3.1467233 ]\n",
      "CN(Cc1ccc2c(c1)C(=O)CC2)C(=O)OC(C)(C)C             : [0.81158835 2.2198553  2.4382763 ]\n",
      "COC(=O)C1CCC(Oc2ccc(NC(=O)C(=O)NN)cn2)CC1          : [0.7531525  2.4784982  0.05034626]\n"
     ]
    }
   ],
   "source": [
    "#print('Properties (qed,SAS,logP):')\n",
    "y1 = vae.predict_prop_Z(z1)[0]\n",
    "y2 = vae.predict_prop_Z(z2)[0]\n",
    "y3 = vae.predict_prop_Z(z3)[0]\n",
    "\n",
    "print('{:50}   {}'.format('Chemical structure', 'Properties [qed,SAS,logP]'))\n",
    "print('{:50} : {}'.format(smiles_1, y1))\n",
    "print('{:50} : {}'.format(smiles_2, y2))\n",
    "print('{:50} : {}'.format(smiles_3, y3))"
   ]
  }
 ],
 "metadata": {
  "kernelspec": {
   "display_name": "Python 3",
   "language": "python",
   "name": "python3"
  },
  "language_info": {
   "codemirror_mode": {
    "name": "ipython",
    "version": 3
   },
   "file_extension": ".py",
   "mimetype": "text/x-python",
   "name": "python",
   "nbconvert_exporter": "python",
   "pygments_lexer": "ipython3",
   "version": "3.6.10"
  },
  "toc": {
   "nav_menu": {},
   "number_sections": true,
   "sideBar": true,
   "skip_h1_title": false,
   "toc_cell": false,
   "toc_position": {},
   "toc_section_display": "block",
   "toc_window_display": false
  }
 },
 "nbformat": 4,
 "nbformat_minor": 2
}
